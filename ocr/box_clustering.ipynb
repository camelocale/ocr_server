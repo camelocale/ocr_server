{
 "cells": [
  {
   "cell_type": "code",
   "execution_count": 11,
   "metadata": {},
   "outputs": [],
   "source": [
    "import pickle"
   ]
  },
  {
   "cell_type": "code",
   "execution_count": 12,
   "metadata": {},
   "outputs": [],
   "source": [
    "ocr_out = pickle.load( open( \"./result/ocr_output.p\", \"rb\" ) )\n",
    "dla_out = pickle.load( open( \"./result/dla_output.p\", \"rb\" ) )"
   ]
  },
  {
   "cell_type": "code",
   "execution_count": 13,
   "metadata": {},
   "outputs": [
    {
     "data": {
      "text/plain": [
       "[{'text': '國务院',\n",
       "  'score': 0.7459295988082886,\n",
       "  'position': array([[473., 267.],\n",
       "         [682., 267.],\n",
       "         [682., 315.],\n",
       "         [473., 315.]], dtype=float32)},\n",
       " {'text': '关于公布英宅第化万案的决漆',\n",
       "  'score': 0.1826888620853424,\n",
       "  'position': array([[237., 358.],\n",
       "         [916., 356.],\n",
       "         [916., 394.],\n",
       "         [237., 397.]], dtype=float32)},\n",
       " {'text': '(1956年1.月28日國务院全体会酸第23次会能通过)',\n",
       "  'score': 0.3850726783275604,\n",
       "  'position': array([[227., 435.],\n",
       "         [919., 438.],\n",
       "         [919., 470.],\n",
       "         [227., 467.]], dtype=float32)},\n",
       " {'text': '漠字筒化方案,1955年1月由中感文字欧革委员会提出甲',\n",
       "  'score': 0.27294808626174927,\n",
       "  'position': array([[ 157.,  538.],\n",
       "         [1052.,  543.],\n",
       "         [1052.,  572.],\n",
       "         [ 157.,  568.]], dtype=float32)},\n",
       " {'text': '案，经全國文字学家、各省市学校的语文教师以及部陈工会的文教',\n",
       "  'score': 0.3292197287082672,\n",
       "  'position': array([[  89.,  593.],\n",
       "         [1052.,  593.],\n",
       "         [1052.,  625.],\n",
       "         [  89.,  625.]], dtype=float32)}]"
      ]
     },
     "execution_count": 13,
     "metadata": {},
     "output_type": "execute_result"
    }
   ],
   "source": [
    "ocr_out[0:5]"
   ]
  },
  {
   "cell_type": "code",
   "execution_count": 17,
   "metadata": {},
   "outputs": [
    {
     "name": "stdout",
     "output_type": "stream",
     "text": [
      "['國务院', '关于公布英宅第化万案的决漆', '(1956年1.月28日國务院全体会酸第23次会能通过)', '漠字筒化方案,1955年1月由中感文字欧革委员会提出甲', '案，经全國文字学家、各省市学校的语文教师以及部陈工会的文教', '工作者的20万人参加时翰，提供意见,再都1955年10月全國文', '宇欧革会麟通过,井由国务院莲字筒化方案容订委员会容打完果。', '漠字筋化方案分三部分。第一部分部漠字简化第一表所列阁', '化漠字共230个,已经由大部分报纸雅志就用,应核从1956年2月', '1日超在全國印刷的和書高的文件上一律通用；除翻印古籍和有', '其他特殊原因的以外,原来的繁体字应额在印刷物上停止使用。', '第二部分即漢字筋化第二表所刻筋化漠字285个和第三部分即汉', '字偏旁蘭化表所列简化偏旁54个,也都已经趣过有关各方样细时', '翰,熟为通当。现在为慎重起见,特先行瓜布式用,井贵成各省市', '人民委竟会负青邀集本省市政治协商委员会委真征求意见,在8', '月底以前报告國务院,以便根据多数意兑再作某些必要的修正,然', '后正式分批推行。']\n",
      "國务院\n",
      "关于公布英宅第化万案的决漆\n",
      "(1956年1.月28日國务院全体会酸第23次会能通过)\n",
      "漠字筒化方案,1955年1月由中感文字欧革委员会提出甲\n",
      "案，经全國文字学家、各省市学校的语文教师以及部陈工会的文教\n",
      "工作者的20万人参加时翰，提供意见,再都1955年10月全國文\n",
      "宇欧革会麟通过,井由国务院莲字筒化方案容订委员会容打完果。\n",
      "漠字筋化方案分三部分。第一部分部漠字简化第一表所列阁\n",
      "化漠字共230个,已经由大部分报纸雅志就用,应核从1956年2月\n",
      "1日超在全國印刷的和書高的文件上一律通用；除翻印古籍和有\n",
      "其他特殊原因的以外,原来的繁体字应额在印刷物上停止使用。\n",
      "第二部分即漢字筋化第二表所刻筋化漠字285个和第三部分即汉\n",
      "字偏旁蘭化表所列简化偏旁54个,也都已经趣过有关各方样细时\n",
      "翰,熟为通当。现在为慎重起见,特先行瓜布式用,井贵成各省市\n",
      "人民委竟会负青邀集本省市政治协商委员会委真征求意见,在8\n",
      "月底以前报告國务院,以便根据多数意兑再作某些必要的修正,然\n",
      "后正式分批推行。\n"
     ]
    }
   ],
   "source": [
    "ocr_content = []\n",
    "for i in range(len(ocr_out)):\n",
    "    ocr_content.append(ocr_out[i]['text'])\n",
    "\n",
    "print(ocr_content)\n",
    "\n",
    "ocr_text = \"\\n\".join(ocr_content)\n",
    "print(ocr_text)"
   ]
  },
  {
   "cell_type": "code",
   "execution_count": 14,
   "metadata": {},
   "outputs": [
    {
     "data": {
      "text/plain": [
       "[{'category_index': 0,\n",
       "  'category_name': 'title',\n",
       "  'region_poly': [237, 352, 913, 352, 913, 401, 237, 401],\n",
       "  'text_list': [{'position': [235, 349, 915, 349, 915, 399, 235, 398],\n",
       "    'content': ['关于公布漢字簡化方案的决議']}]},\n",
       " {'category_index': 0,\n",
       "  'category_name': 'title',\n",
       "  'region_poly': [228, 436, 916, 436, 916, 470, 228, 470],\n",
       "  'text_list': [{'position': [222, 435, 917, 433, 917, 463, 222, 465],\n",
       "    'content': ['(1956年1月28日國务院全体会議第23次会議通过)']}]},\n",
       " {'category_index': 0,\n",
       "  'category_name': 'title',\n",
       "  'region_poly': [472, 263, 680, 263, 680, 316, 472, 316],\n",
       "  'text_list': [{'position': [472, 262, 679, 262, 679, 312, 472, 312],\n",
       "    'content': ['國务院']}]},\n",
       " {'category_index': 0,\n",
       "  'category_name': 'title',\n",
       "  'region_poly': [230, 265, 920, 265, 920, 403, 230, 403],\n",
       "  'text_list': [{'position': [472, 262, 679, 262, 679, 312, 472, 312],\n",
       "    'content': ['國务院']},\n",
       "   {'position': [235, 349, 915, 349, 915, 399, 235, 398],\n",
       "    'content': ['关于公布漢字簡化方案的决議']}]},\n",
       " {'category_index': 2,\n",
       "  'category_name': 'plain text',\n",
       "  'region_poly': [85, 537, 1053, 537, 1053, 730, 85, 730],\n",
       "  'text_list': [{'position': [155, 535, 1050, 534, 1050, 567, 155, 568],\n",
       "    'content': ['漢字簡化方案,1955年1月由中國文字改革委員会提出草']},\n",
       "   {'position': [87, 587, 1050, 588, 1050, 622, 87, 620],\n",
       "    'content': ['案,經全國文字学家、各省巿学校的語文教师以及部隊工会的文教']},\n",
       "   {'position': [86, 638, 1050, 642, 1050, 675, 86, 672],\n",
       "    'content': ['工作者約20万人参加討論,提供意見,再經1955年10月全國文']},\n",
       "   {'position': [86, 690, 1049, 694, 1048, 728, 86, 723],\n",
       "    'content': ['字改革会議通过,并由國务院汉字簡化方案審訂委員会審訂完畢。']}]},\n",
       " {'category_index': 2,\n",
       "  'category_name': 'plain text',\n",
       "  'region_poly': [80, 687, 1052, 687, 1052, 1262, 80, 1262],\n",
       "  'text_list': [{'position': [86, 690, 1049, 694, 1048, 728, 86, 723],\n",
       "    'content': ['字改革会議通过,并由國务院汉字簡化方案審訂委員会審訂完畢。']},\n",
       "   {'position': [154, 743, 1050, 747, 1050, 780, 153, 776],\n",
       "    'content': ['漢字簡化方案分三部分。第一部分即谟字簡化第一表所列簡']},\n",
       "   {'position': [82, 796, 1042, 800, 1042, 833, 82, 829],\n",
       "    'content': ['化漢宇共230个,已經由大部分报紙雜誌試用,应該从1956年2月']},\n",
       "   {'position': [91, 849, 1045, 853, 1045, 886, 90, 882],\n",
       "    'content': ['1日起在全國印刷的和書写的文件上一律通用;除翻印古籍和有']},\n",
       "   {'position': [82, 901, 1027, 906, 1027, 939, 82, 934],\n",
       "    'content': ['其他特殊原因的以外,原來的繁体字应該在印刷物上停止使用。']},\n",
       "   {'position': [80, 953, 1043, 959, 1043, 992, 80, 986],\n",
       "    'content': ['第二部分即漢字簡化第二表所列簡化漠字285个和第三部分即漠']},\n",
       "   {'position': [81, 1006, 1042, 1013, 1042, 1046, 80, 1039],\n",
       "    'content': ['字偏旁簡化表所列簡化偏旁54个,也都已經經过有关各方詳細討']},\n",
       "   {'position': [80, 1059, 1042, 1065, 1042, 1098, 79, 1092],\n",
       "    'content': ['論,認为適当。現在为惧重起見,特先行公布試用,并資成各省市']},\n",
       "   {'position': [81, 1111, 1039, 1115, 1039, 1148, 81, 1144],\n",
       "    'content': ['人民委員会負責邀集本省市政治协商委員会委員征求意見,在3']},\n",
       "   {'position': [80, 1165, 1042, 1169, 1041, 1202, 80, 1198],\n",
       "    'content': ['月底以前报告國务院,以便根据多数意見再作某些必要的修正,然']},\n",
       "   {'position': [80, 1214, 329, 1215, 329, 1248, 80, 1246],\n",
       "    'content': ['后正式分批推行。']}]}]"
      ]
     },
     "execution_count": 14,
     "metadata": {},
     "output_type": "execute_result"
    }
   ],
   "source": [
    "dla_out"
   ]
  },
  {
   "cell_type": "code",
   "execution_count": 20,
   "metadata": {},
   "outputs": [
    {
     "name": "stdout",
     "output_type": "stream",
     "text": [
      "['关于公布漢字簡化方案的决議', '(1956年1月28日國务院全体会議第23次会議通过)', '國务院', '國务院', '关于公布漢字簡化方案的决議', '漢字簡化方案,1955年1月由中國文字改革委員会提出草', '案,經全國文字学家、各省巿学校的語文教师以及部隊工会的文教', '工作者約20万人参加討論,提供意見,再經1955年10月全國文', '字改革会議通过,并由國务院汉字簡化方案審訂委員会審訂完畢。', '字改革会議通过,并由國务院汉字簡化方案審訂委員会審訂完畢。', '漢字簡化方案分三部分。第一部分即谟字簡化第一表所列簡', '化漢宇共230个,已經由大部分报紙雜誌試用,应該从1956年2月', '1日起在全國印刷的和書写的文件上一律通用;除翻印古籍和有', '其他特殊原因的以外,原來的繁体字应該在印刷物上停止使用。', '第二部分即漢字簡化第二表所列簡化漠字285个和第三部分即漠', '字偏旁簡化表所列簡化偏旁54个,也都已經經过有关各方詳細討', '論,認为適当。現在为惧重起見,特先行公布試用,并資成各省市', '人民委員会負責邀集本省市政治协商委員会委員征求意見,在3', '月底以前报告國务院,以便根据多数意見再作某些必要的修正,然', '后正式分批推行。']\n",
      "关于公布漢字簡化方案的决議\n",
      "(1956年1月28日國务院全体会議第23次会議通过)\n",
      "國务院\n",
      "國务院\n",
      "关于公布漢字簡化方案的决議\n",
      "漢字簡化方案,1955年1月由中國文字改革委員会提出草\n",
      "案,經全國文字学家、各省巿学校的語文教师以及部隊工会的文教\n",
      "工作者約20万人参加討論,提供意見,再經1955年10月全國文\n",
      "字改革会議通过,并由國务院汉字簡化方案審訂委員会審訂完畢。\n",
      "字改革会議通过,并由國务院汉字簡化方案審訂委員会審訂完畢。\n",
      "漢字簡化方案分三部分。第一部分即谟字簡化第一表所列簡\n",
      "化漢宇共230个,已經由大部分报紙雜誌試用,应該从1956年2月\n",
      "1日起在全國印刷的和書写的文件上一律通用;除翻印古籍和有\n",
      "其他特殊原因的以外,原來的繁体字应該在印刷物上停止使用。\n",
      "第二部分即漢字簡化第二表所列簡化漠字285个和第三部分即漠\n",
      "字偏旁簡化表所列簡化偏旁54个,也都已經經过有关各方詳細討\n",
      "論,認为適当。現在为惧重起見,特先行公布試用,并資成各省市\n",
      "人民委員会負責邀集本省市政治协商委員会委員征求意見,在3\n",
      "月底以前报告國务院,以便根据多数意見再作某些必要的修正,然\n",
      "后正式分批推行。\n"
     ]
    }
   ],
   "source": [
    "dla_content = []\n",
    "for i in range(len(dla_out)):\n",
    "    text_list = dla_out[i]['text_list']\n",
    "    for j in range(len(text_list)):\n",
    "        content = text_list[j]['content'][0]\n",
    "        dla_content.append(content)\n",
    "\n",
    "print(dla_content)\n",
    "\n",
    "dla_text = \"\\n\".join(dla_content)\n",
    "print(dla_text)"
   ]
  },
  {
   "cell_type": "code",
   "execution_count": 6,
   "metadata": {},
   "outputs": [
    {
     "ename": "IndentationError",
     "evalue": "expected an indented block (2349941210.py, line 3)",
     "output_type": "error",
     "traceback": [
      "\u001b[0;36m  Cell \u001b[0;32mIn[6], line 3\u001b[0;36m\u001b[0m\n\u001b[0;31m    \u001b[0m\n\u001b[0m    ^\u001b[0m\n\u001b[0;31mIndentationError\u001b[0m\u001b[0;31m:\u001b[0m expected an indented block\n"
     ]
    }
   ],
   "source": [
    "def get_rectangular_points(points):\n",
    "    \n",
    "\n"
   ]
  },
  {
   "cell_type": "code",
   "execution_count": null,
   "metadata": {},
   "outputs": [],
   "source": [
    "\n",
    "def compute_intersect_area(rect1, rect2):\n",
    "    \n",
    "    x1, y1 = rect1[0], rect1[1] \n",
    "    x2, y2 = rect1[2], rect1[3]\n",
    "    x3, y3 = rect2[0], rect2[1] \n",
    "    x4, y4 = rect2[2], rect2[3]\n",
    "\n",
    "    ## case1 오른쪽으로 벗어나 있는 경우\n",
    "\n",
    "    if x2 < x3:\n",
    "        return 0\n",
    "\n",
    "    ## case2 왼쪽으로 벗어나 있는 경우\n",
    "    if x1 > x4:\n",
    "        return 0\n",
    "\n",
    "    ## case3 위쪽으로 벗어나 있는 경우\n",
    "    if  y2 < y3:\n",
    "        return 0\n",
    "\n",
    "    ## case4 아래쪽으로 벗어나 있는 경우c\n",
    "    if  y1 > y4:\n",
    "        return 0\n",
    "\n",
    "    left_up_x = max(x1, x3)\n",
    "    left_up_y = max(y1, y3)\n",
    "    right_down_x = min(x2, x4)\n",
    "    right_down_y = min(y2, y4)\n",
    "\n",
    "    width = right_down_x - left_up_x\n",
    "    height =  right_down_y - left_up_y\n",
    "  \n",
    "    return width * height\n"
   ]
  },
  {
   "cell_type": "code",
   "execution_count": null,
   "metadata": {},
   "outputs": [],
   "source": []
  },
  {
   "cell_type": "code",
   "execution_count": null,
   "metadata": {},
   "outputs": [],
   "source": []
  },
  {
   "cell_type": "code",
   "execution_count": null,
   "metadata": {},
   "outputs": [],
   "source": []
  },
  {
   "cell_type": "code",
   "execution_count": null,
   "metadata": {},
   "outputs": [],
   "source": []
  }
 ],
 "metadata": {
  "kernelspec": {
   "display_name": "vllmenv",
   "language": "python",
   "name": "python3"
  },
  "language_info": {
   "codemirror_mode": {
    "name": "ipython",
    "version": 3
   },
   "file_extension": ".py",
   "mimetype": "text/x-python",
   "name": "python",
   "nbconvert_exporter": "python",
   "pygments_lexer": "ipython3",
   "version": "3.9.19"
  }
 },
 "nbformat": 4,
 "nbformat_minor": 2
}
